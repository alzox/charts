{
 "cells": [
  {
   "cell_type": "code",
   "execution_count": 51,
   "id": "35eb1b56",
   "metadata": {},
   "outputs": [],
   "source": [
    "import pandas as pd\n",
    "import seaborn as sns\n",
    "import matplotlib.pyplot as plt\n",
    "import scipy.stats as stats\n",
    "import numpy as np"
   ]
  },
  {
   "cell_type": "code",
   "execution_count": 52,
   "id": "e043fabd",
   "metadata": {},
   "outputs": [],
   "source": [
    "df = pd.read_csv('../data/Spring25_PHH3_COUNTING.csv')\n",
    "df_e12 = df[df[\"Age\"] == \"E12\"]\n",
    "df_e16 = df[df[\"Age\"] == \"E16\"]\n",
    "df_p0 = df[df[\"Age\"] == \"P0\"]"
   ]
  },
  {
   "cell_type": "code",
   "execution_count": 53,
   "id": "58123125",
   "metadata": {},
   "outputs": [
    {
     "data": {
      "text/plain": [
       "Index(['Animal_No', 'Age', 'Cep55_Genotype', 'Slide_No', 'Position', 'L_R',\n",
       "       'PH3_Cell_No', 'Yellow_Cell_No', 'Td_Cell_', 'EGFP_Cell', 'Unnamed: 10',\n",
       "       'Comments'],\n",
       "      dtype='object')"
      ]
     },
     "execution_count": 53,
     "metadata": {},
     "output_type": "execute_result"
    }
   ],
   "source": [
    "df.columns"
   ]
  },
  {
   "cell_type": "markdown",
   "id": "44d1b605",
   "metadata": {},
   "source": [
    "### Running T-tests"
   ]
  },
  {
   "cell_type": "code",
   "execution_count": 54,
   "id": "b705d9f7",
   "metadata": {},
   "outputs": [
    {
     "name": "stdout",
     "output_type": "stream",
     "text": [
      "T-statistic: -0.03220226849242668, P-value: 0.974482535850786\n"
     ]
    }
   ],
   "source": [
    "wild_type = df[df[\"Cep55_Genotype\"] == \"WT\"]\n",
    "het_type = df[df[\"Cep55_Genotype\"] == \"HET\"]\n",
    "\n",
    "count_wild_type = wild_type[\"PH3_Cell_No\"] + wild_type[\"Yellow_Cell_No\"]\n",
    "count_het_type = het_type[\"PH3_Cell_No\"] + het_type[\"Yellow_Cell_No\"]\n",
    "\n",
    "t_stat, p_value = stats.ttest_ind(count_wild_type, count_het_type, equal_var=False)\n",
    "print(f\"T-statistic: {t_stat}, P-value: {p_value}\")"
   ]
  },
  {
   "cell_type": "code",
   "execution_count": 55,
   "id": "ae852ccf",
   "metadata": {},
   "outputs": [
    {
     "name": "stdout",
     "output_type": "stream",
     "text": [
      "T-test: t-statistic = -2.4418025488182837, p-value = 0.07853358220436502\n"
     ]
    }
   ],
   "source": [
    "p0_wild_type = df_p0[df_p0[\"Cep55_Genotype\"] == \"WT\"][\"PH3_Cell_No\"] + df_p0[df_p0[\"Cep55_Genotype\"] == \"WT\"][\"Yellow_Cell_No\"]\n",
    "p0_het = df_p0[df_p0[\"Cep55_Genotype\"] == \"HET\"][\"PH3_Cell_No\"] + df_p0[df_p0[\"Cep55_Genotype\"] == \"HET\"][\"Yellow_Cell_No\"]\n",
    "\n",
    "t_stat, p_value = stats.ttest_ind(p0_wild_type, p0_het, equal_var=False)\n",
    "print(f\"T-test: t-statistic = {t_stat}, p-value = {p_value}\")"
   ]
  },
  {
   "cell_type": "code",
   "execution_count": 56,
   "id": "f6048095",
   "metadata": {},
   "outputs": [
    {
     "name": "stdout",
     "output_type": "stream",
     "text": [
      "T-test: t-statistic = 0.8920030434319564, p-value = 0.41874917762251046\n"
     ]
    }
   ],
   "source": [
    "e12_wild_type = df_e12[df_e12[\"Cep55_Genotype\"] == \"WT\"][\"PH3_Cell_No\"] + df_e12[df_e12[\"Cep55_Genotype\"] == \"WT\"][\"Yellow_Cell_No\"]\n",
    "e12_het = df_e12[df_e12[\"Cep55_Genotype\"] == \"HET\"][\"PH3_Cell_No\"] + df_e12[df_e12[\"Cep55_Genotype\"] == \"HET\"][\"Yellow_Cell_No\"]\n",
    "\n",
    "t_stat, p_value = stats.ttest_ind(e12_wild_type, e12_het, equal_var=False)\n",
    "print(f\"T-test: t-statistic = {t_stat}, p-value = {p_value}\")"
   ]
  },
  {
   "cell_type": "code",
   "execution_count": 57,
   "id": "7c86fe13",
   "metadata": {},
   "outputs": [
    {
     "name": "stdout",
     "output_type": "stream",
     "text": [
      "T-test: t-statistic = -0.30550348239564246, p-value = 0.7632474856854489\n"
     ]
    }
   ],
   "source": [
    "e16_wild_type = df_e16[df_e16[\"Cep55_Genotype\"] == \"WT\"][\"PH3_Cell_No\"] + df_e16[df_e16[\"Cep55_Genotype\"] == \"WT\"][\"Yellow_Cell_No\"]\n",
    "e16_het = df_e16[df_e16[\"Cep55_Genotype\"] == \"HET\"][\"PH3_Cell_No\"] + df_e16[df_e16[\"Cep55_Genotype\"] == \"HET\"][\"Yellow_Cell_No\"]\n",
    "\n",
    "t_stat, p_value = stats.ttest_ind(e16_wild_type, e16_het, equal_var=False)\n",
    "print(f\"T-test: t-statistic = {t_stat}, p-value = {p_value}\")"
   ]
  },
  {
   "cell_type": "markdown",
   "id": "4ff736c4",
   "metadata": {},
   "source": [
    "### Making Graphs"
   ]
  },
  {
   "cell_type": "code",
   "execution_count": 58,
   "id": "908f1841",
   "metadata": {},
   "outputs": [
    {
     "name": "stderr",
     "output_type": "stream",
     "text": [
      "C:\\Users\\commo\\AppData\\Local\\Temp\\ipykernel_31968\\2413683035.py:2: SettingWithCopyWarning: \n",
      "A value is trying to be set on a copy of a slice from a DataFrame.\n",
      "Try using .loc[row_indexer,col_indexer] = value instead\n",
      "\n",
      "See the caveats in the documentation: https://pandas.pydata.org/pandas-docs/stable/user_guide/indexing.html#returning-a-view-versus-a-copy\n",
      "  df_e12[\"Yellow\"] = df_e12[\"Yellow_Cell_No\"] + df_e12[\"PH3_Cell_No\"]\n",
      "C:\\Users\\commo\\AppData\\Local\\Temp\\ipykernel_31968\\2413683035.py:3: SettingWithCopyWarning: \n",
      "A value is trying to be set on a copy of a slice from a DataFrame\n",
      "\n",
      "See the caveats in the documentation: https://pandas.pydata.org/pandas-docs/stable/user_guide/indexing.html#returning-a-view-versus-a-copy\n",
      "  df_e12.rename(columns={\"Td_Cell_\":\"Purple\"}, inplace=True)\n",
      "C:\\Users\\commo\\AppData\\Local\\Temp\\ipykernel_31968\\2413683035.py:4: SettingWithCopyWarning: \n",
      "A value is trying to be set on a copy of a slice from a DataFrame\n",
      "\n",
      "See the caveats in the documentation: https://pandas.pydata.org/pandas-docs/stable/user_guide/indexing.html#returning-a-view-versus-a-copy\n",
      "  df_e12.rename(columns={\"EGFP_Cell\":\"Green\"}, inplace=True)\n"
     ]
    }
   ],
   "source": [
    "# E12 Grouped Bar Plot \n",
    "df_e12[\"Yellow\"] = df_e12[\"Yellow_Cell_No\"] + df_e12[\"PH3_Cell_No\"]\n",
    "df_e12.rename(columns={\"Td_Cell_\":\"Purple\"}, inplace=True)\n",
    "df_e12.rename(columns={\"EGFP_Cell\":\"Green\"}, inplace=True)"
   ]
  },
  {
   "cell_type": "code",
   "execution_count": 73,
   "id": "7b5e67e6",
   "metadata": {},
   "outputs": [
    {
     "name": "stderr",
     "output_type": "stream",
     "text": [
      "C:\\Users\\commo\\AppData\\Roaming\\Python\\Python311\\site-packages\\seaborn\\axisgrid.py:118: UserWarning: The figure layout has changed to tight\n",
      "  self._figure.tight_layout(*args, **kwargs)\n"
     ]
    },
    {
     "data": {
      "text/plain": [
       "Text(5.069444444444452, 0.5, 'PH3 +/+ Cell Count')"
      ]
     },
     "execution_count": 73,
     "metadata": {},
     "output_type": "execute_result"
    },
    {
     "data": {
      "image/png": "[encoded data removed]",
      "text/plain": [
       "<Figure size 700x200 with 1 Axes>"
      ]
     },
     "metadata": {},
     "output_type": "display_data"
    }
   ],
   "source": [
    "df_e12_melt = df_e12.melt(id_vars=[\"Cep55_Genotype\", \"Age\"], value_vars=[\"Yellow\", \"Purple\", \"Green\"], var_name=\"Cell_Type\", value_name=\"Count\")\n",
    "df_e12_melt[\"Cell_Type\"] = df_e12_melt[\"Cell_Type\"].replace({\"Yellow\": \"HET\", \"Purple\": \"WT\", \"Green\": \"KO\"})\n",
    "df_e12_melt[\"E12\"] = df_e12_melt[\"Cell_Type\"]\n",
    "\n",
    "df_e12_melt.rename(columns={\"Count\": \"PH3 +/+ Cell Count\"}, inplace=True) # CHANGE THIS FOR Y VARIABLE\n",
    "\n",
    "g = sns.catplot(x=\"E12\", y=\"PH3 +/+ Cell Count\", hue=\"Cep55_Genotype\", data=df_e12_melt, kind=\"bar\", height=5, aspect=1.5, estimator=np.mean, hue_order=[\"WT\", \"HET\"],\n",
    "                errorbar=\"se\", palette=[\"#FF9999\", \"#66B3FF\"], legend_out=False)\n",
    "fig = g.figure\n",
    "fig.set_size_inches(7, 2)\n",
    "g._legend.remove()\n",
    "g.ax.set_yticks([0, 100, 200, 300, 400, 500])\n",
    "\n",
    "# Set Main title\n",
    "g.fig.suptitle(\"E12\", fontsize=12, fontweight='bold')\n",
    "g.set_axis_labels(\"\", \"PH3 +/+ Cell Count\")\n",
    "g.ax.set_ylabel(\"PH3 +/+ Cell Count\", fontsize=11)"
   ]
  },
  {
   "cell_type": "code",
   "execution_count": 60,
   "id": "ade3618f",
   "metadata": {},
   "outputs": [
    {
     "name": "stderr",
     "output_type": "stream",
     "text": [
      "C:\\Users\\commo\\AppData\\Local\\Temp\\ipykernel_31968\\3232597398.py:1: SettingWithCopyWarning: \n",
      "A value is trying to be set on a copy of a slice from a DataFrame.\n",
      "Try using .loc[row_indexer,col_indexer] = value instead\n",
      "\n",
      "See the caveats in the documentation: https://pandas.pydata.org/pandas-docs/stable/user_guide/indexing.html#returning-a-view-versus-a-copy\n",
      "  df_e16[\"Yellow\"] = df_e16[\"Yellow_Cell_No\"] + df_e16[\"PH3_Cell_No\"]\n",
      "C:\\Users\\commo\\AppData\\Local\\Temp\\ipykernel_31968\\3232597398.py:2: SettingWithCopyWarning: \n",
      "A value is trying to be set on a copy of a slice from a DataFrame\n",
      "\n",
      "See the caveats in the documentation: https://pandas.pydata.org/pandas-docs/stable/user_guide/indexing.html#returning-a-view-versus-a-copy\n",
      "  df_e16.rename(columns={\"Td_Cell_\":\"Purple\"}, inplace=True)\n",
      "C:\\Users\\commo\\AppData\\Local\\Temp\\ipykernel_31968\\3232597398.py:3: SettingWithCopyWarning: \n",
      "A value is trying to be set on a copy of a slice from a DataFrame\n",
      "\n",
      "See the caveats in the documentation: https://pandas.pydata.org/pandas-docs/stable/user_guide/indexing.html#returning-a-view-versus-a-copy\n",
      "  df_e16.rename(columns={\"EGFP_Cell\":\"Green\"}, inplace=True)\n"
     ]
    }
   ],
   "source": [
    "df_e16[\"Yellow\"] = df_e16[\"Yellow_Cell_No\"] + df_e16[\"PH3_Cell_No\"]\n",
    "df_e16.rename(columns={\"Td_Cell_\":\"Purple\"}, inplace=True)\n",
    "df_e16.rename(columns={\"EGFP_Cell\":\"Green\"}, inplace=True)"
   ]
  },
  {
   "cell_type": "code",
   "execution_count": 74,
   "id": "540b4bca",
   "metadata": {},
   "outputs": [
    {
     "name": "stderr",
     "output_type": "stream",
     "text": [
      "C:\\Users\\commo\\AppData\\Roaming\\Python\\Python311\\site-packages\\seaborn\\axisgrid.py:118: UserWarning: The figure layout has changed to tight\n",
      "  self._figure.tight_layout(*args, **kwargs)\n"
     ]
    },
    {
     "data": {
      "text/plain": [
       "Text(13.819444444444452, 0.5, 'PH3 +/+ Cell Count')"
      ]
     },
     "execution_count": 74,
     "metadata": {},
     "output_type": "execute_result"
    },
    {
     "data": {
      "image/png": "[encoded data removed]",
      "text/plain": [
       "<Figure size 700x200 with 1 Axes>"
      ]
     },
     "metadata": {},
     "output_type": "display_data"
    }
   ],
   "source": [
    "df_e16_melt = df_e16.melt(id_vars=[\"Cep55_Genotype\", \"Age\"], value_vars=[\"Yellow\", \"Purple\", \"Green\"], var_name=\"Cell_Type\", value_name=\"Count\")\n",
    "\n",
    "df_e16_melt[\"Cell_Type\"] = df_e16_melt[\"Cell_Type\"].replace({\"Yellow\": \"HET\", \"Purple\": \"WT\", \"Green\": \"KO\"})\n",
    "df_e16_melt[\"E16\"] = df_e16_melt[\"Cell_Type\"]\n",
    "\n",
    "df_e16_melt.rename(columns={\"Count\": \"PH3 +/+ Cell Count\"}, inplace=True) # CHANGE THIS FOR Y VARIABLE\n",
    "\n",
    "g = sns.catplot(x=\"E16\", y=\"PH3 +/+ Cell Count\", hue=\"Cep55_Genotype\", data=df_e16_melt, kind=\"bar\", height=5, aspect=1.5, estimator=np.mean, hue_order=[\"WT\", \"HET\"],\n",
    "                errorbar=\"se\", palette=[\"#FF9999\", \"#66B3FF\"], legend_out=False)\n",
    "\n",
    "\n",
    "fig = g.figure\n",
    "fig.set_size_inches(7, 2)\n",
    "g._legend.remove()\n",
    "g.ax.set_yticks([0, 100, 200, 300, 400, 500])\n",
    "\n",
    "# Set Main title\n",
    "g.fig.suptitle(\"E16\", fontsize=12, fontweight='bold')\n",
    "g.set_axis_labels(\"\", \"PH3 +/+ Cell Count\")\n",
    "g.ax.set_ylabel(\"PH3 +/+ Cell Count\", fontsize=11)\n"
   ]
  },
  {
   "cell_type": "code",
   "execution_count": 62,
   "id": "3db59b80",
   "metadata": {},
   "outputs": [
    {
     "name": "stderr",
     "output_type": "stream",
     "text": [
      "C:\\Users\\commo\\AppData\\Local\\Temp\\ipykernel_31968\\3182736417.py:1: SettingWithCopyWarning: \n",
      "A value is trying to be set on a copy of a slice from a DataFrame.\n",
      "Try using .loc[row_indexer,col_indexer] = value instead\n",
      "\n",
      "See the caveats in the documentation: https://pandas.pydata.org/pandas-docs/stable/user_guide/indexing.html#returning-a-view-versus-a-copy\n",
      "  df_p0[\"Yellow\"] = df_p0[\"Yellow_Cell_No\"] + df_p0[\"PH3_Cell_No\"]\n",
      "C:\\Users\\commo\\AppData\\Local\\Temp\\ipykernel_31968\\3182736417.py:2: SettingWithCopyWarning: \n",
      "A value is trying to be set on a copy of a slice from a DataFrame\n",
      "\n",
      "See the caveats in the documentation: https://pandas.pydata.org/pandas-docs/stable/user_guide/indexing.html#returning-a-view-versus-a-copy\n",
      "  df_p0.rename(columns={\"Td_Cell_\":\"Purple\"}, inplace=True)\n",
      "C:\\Users\\commo\\AppData\\Local\\Temp\\ipykernel_31968\\3182736417.py:3: SettingWithCopyWarning: \n",
      "A value is trying to be set on a copy of a slice from a DataFrame\n",
      "\n",
      "See the caveats in the documentation: https://pandas.pydata.org/pandas-docs/stable/user_guide/indexing.html#returning-a-view-versus-a-copy\n",
      "  df_p0.rename(columns={\"EGFP_Cell\":\"Green\"}, inplace=True)\n"
     ]
    }
   ],
   "source": [
    "df_p0[\"Yellow\"] = df_p0[\"Yellow_Cell_No\"] + df_p0[\"PH3_Cell_No\"]\n",
    "df_p0.rename(columns={\"Td_Cell_\":\"Purple\"}, inplace=True)\n",
    "df_p0.rename(columns={\"EGFP_Cell\":\"Green\"}, inplace=True)\n"
   ]
  },
  {
   "cell_type": "code",
   "execution_count": null,
   "id": "a3530be3",
   "metadata": {},
   "outputs": [
    {
     "name": "stderr",
     "output_type": "stream",
     "text": [
      "C:\\Users\\commo\\AppData\\Roaming\\Python\\Python311\\site-packages\\seaborn\\axisgrid.py:118: UserWarning: The figure layout has changed to tight\n",
      "  self._figure.tight_layout(*args, **kwargs)\n"
     ]
    },
    {
     "data": {
      "text/plain": [
       "[<matplotlib.axis.YTick at 0x2d7e4a5ee50>,\n",
       " <matplotlib.axis.YTick at 0x2d7e4a39d90>,\n",
       " <matplotlib.axis.YTick at 0x2d7e5099ad0>,\n",
       " <matplotlib.axis.YTick at 0x2d7e5116110>,\n",
       " <matplotlib.axis.YTick at 0x2d7e5115310>,\n",
       " <matplotlib.axis.YTick at 0x2d7e4a6f310>]"
      ]
     },
     "execution_count": 63,
     "metadata": {},
     "output_type": "execute_result"
    },
    {
     "data": {
      "image/png": "[encoded data removed]",
      "text/plain": [
       "<Figure size 700x200 with 1 Axes>"
      ]
     },
     "metadata": {},
     "output_type": "display_data"
    }
   ],
   "source": [
    "df_p0_melt = df_p0.melt(id_vars=[\"Cep55_Genotype\", \"Age\"], value_vars=[\"Yellow\", \"Purple\", \"Green\"], var_name=\"Cell_Type\", value_name=\"Count\")\n",
    "\n",
    "df_p0_melt[\"Cell_Type\"] = df_p0_melt[\"Cell_Type\"].replace({\"Yellow\": \"HET\", \"Purple\": \"WT\", \"Green\": \"KO\"})\n",
    "df_p0_melt[\"P0\"] = df_p0_melt[\"Cell_Type\"]\n",
    "\n",
    "df_p0_melt.rename(columns={\"Count\": \"PH3 +/+ Cell Count\"}, inplace=True) # CHANGE THIS FOR Y VARIABLE\n",
    "\n",
    "g = sns.catplot(x=\"P0\", y=\"PH3 +/+ Cell Count\", hue=\"Cep55_Genotype\", data=df_p0_melt, kind=\"bar\", height=5, aspect=1.5, estimator=np.mean, hue_order=[\"WT\", \"HET\"],\n",
    "                errorbar=\"se\", palette=[\"#FF9999\", \"#66B3FF\"], legend_out=False)\n",
    "\n",
    "fig = g.figure\n",
    "fig.set_size_inches(7, 2)\n",
    "g._legend.remove()\n",
    "g.ax.set_yticks([0, 100, 200, 300, 400, 500])\n",
    "\n",
    "# Set Main title\n",
    "g.fig.suptitle(\"P0\", fontsize=12, fontweight='bold')\n",
    "g.set_axis_labels(\"\", \"PH3 +/+ Cell Count\")\n",
    "g.ax.set_ylabel(\"PH3 +/+ Cell Count\", fontsize=11)"
   ]
  }
 ],
 "metadata": {
  "kernelspec": {
   "display_name": "Python 3",
   "language": "python",
   "name": "python3"
  },
  "language_info": {
   "codemirror_mode": {
    "name": "ipython",
    "version": 3
   },
   "file_extension": ".py",
   "mimetype": "text/x-python",
   "name": "python",
   "nbconvert_exporter": "python",
   "pygments_lexer": "ipython3",
   "version": "3.11.3"
  }
 },
 "nbformat": 4,
 "nbformat_minor": 5
}
